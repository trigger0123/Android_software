{
  "cells": [
    {
      "cell_type": "markdown",
      "metadata": {
        "id": "view-in-github",
        "colab_type": "text"
      },
      "source": [
        "<a href=\"https://colab.research.google.com/github/trigger0123/Android_software/blob/main/cfgen_test1.ipynb\" target=\"_parent\"><img src=\"https://colab.research.google.com/assets/colab-badge.svg\" alt=\"Open In Colab\"/></a>"
      ]
    },
    {
      "cell_type": "code",
      "execution_count": 2,
      "metadata": {
        "colab": {
          "base_uri": "https://localhost:8080/",
          "height": 0
        },
        "id": "emv2KObTVEnd",
        "outputId": "a36f6e3b-5fb7-4725-ffbe-a32f26cc9c46"
      },
      "outputs": [
        {
          "output_type": "stream",
          "name": "stdout",
          "text": [
            "Mounted at /content/drive\n"
          ]
        }
      ],
      "source": [
        "from google.colab import drive\n",
        "drive.mount('/content/drive',force_remount = True)"
      ]
    },
    {
      "cell_type": "code",
      "execution_count": 3,
      "metadata": {
        "colab": {
          "base_uri": "https://localhost:8080/",
          "height": 0
        },
        "id": "bN18ER4HZ-2J",
        "outputId": "ae12736f-ea30-4c1e-9f65-3a567f387e0a"
      },
      "outputs": [
        {
          "output_type": "stream",
          "name": "stdout",
          "text": [
            "/content/drive/MyDrive/Colab Notebooks\n"
          ]
        }
      ],
      "source": [
        "cd /content/drive/MyDrive/Colab\\ Notebooks"
      ]
    },
    {
      "cell_type": "code",
      "execution_count": 5,
      "metadata": {
        "colab": {
          "base_uri": "https://localhost:8080/",
          "height": 0
        },
        "id": "K4BLULQ6_l0M",
        "outputId": "9f9e1b66-5c67-4c2b-aa81-e81e516f2561"
      },
      "outputs": [
        {
          "output_type": "stream",
          "name": "stdout",
          "text": [
            "Requirement already satisfied: torch==1.6.0 in /usr/local/lib/python3.7/dist-packages (from -r requirements.txt (line 1)) (1.6.0)\n",
            "Requirement already satisfied: pandas==1.1.2 in /usr/local/lib/python3.7/dist-packages (from -r requirements.txt (line 2)) (1.1.2)\n",
            "Requirement already satisfied: fire==0.3.1 in /usr/local/lib/python3.7/dist-packages (from -r requirements.txt (line 3)) (0.3.1)\n",
            "Requirement already satisfied: scikit_learn==0.23.2 in /usr/local/lib/python3.7/dist-packages (from -r requirements.txt (line 4)) (0.23.2)\n",
            "Requirement already satisfied: seaborn==0.10.1 in /usr/local/lib/python3.7/dist-packages (from -r requirements.txt (line 5)) (0.10.1)\n",
            "Requirement already satisfied: matplotlib==3.2.1 in /usr/local/lib/python3.7/dist-packages (from -r requirements.txt (line 6)) (3.2.1)\n",
            "Requirement already satisfied: numpy in /usr/local/lib/python3.7/dist-packages (from torch==1.6.0->-r requirements.txt (line 1)) (1.21.5)\n",
            "Requirement already satisfied: future in /usr/local/lib/python3.7/dist-packages (from torch==1.6.0->-r requirements.txt (line 1)) (0.16.0)\n",
            "Requirement already satisfied: pytz>=2017.2 in /usr/local/lib/python3.7/dist-packages (from pandas==1.1.2->-r requirements.txt (line 2)) (2018.9)\n",
            "Requirement already satisfied: python-dateutil>=2.7.3 in /usr/local/lib/python3.7/dist-packages (from pandas==1.1.2->-r requirements.txt (line 2)) (2.8.2)\n",
            "Requirement already satisfied: termcolor in /usr/local/lib/python3.7/dist-packages (from fire==0.3.1->-r requirements.txt (line 3)) (1.1.0)\n",
            "Requirement already satisfied: six in /usr/local/lib/python3.7/dist-packages (from fire==0.3.1->-r requirements.txt (line 3)) (1.15.0)\n",
            "Requirement already satisfied: joblib>=0.11 in /usr/local/lib/python3.7/dist-packages (from scikit_learn==0.23.2->-r requirements.txt (line 4)) (1.1.0)\n",
            "Requirement already satisfied: threadpoolctl>=2.0.0 in /usr/local/lib/python3.7/dist-packages (from scikit_learn==0.23.2->-r requirements.txt (line 4)) (3.1.0)\n",
            "Requirement already satisfied: scipy>=0.19.1 in /usr/local/lib/python3.7/dist-packages (from scikit_learn==0.23.2->-r requirements.txt (line 4)) (1.4.1)\n",
            "Requirement already satisfied: cycler>=0.10 in /usr/local/lib/python3.7/dist-packages (from matplotlib==3.2.1->-r requirements.txt (line 6)) (0.11.0)\n",
            "Requirement already satisfied: kiwisolver>=1.0.1 in /usr/local/lib/python3.7/dist-packages (from matplotlib==3.2.1->-r requirements.txt (line 6)) (1.4.0)\n",
            "Requirement already satisfied: pyparsing!=2.0.4,!=2.1.2,!=2.1.6,>=2.0.1 in /usr/local/lib/python3.7/dist-packages (from matplotlib==3.2.1->-r requirements.txt (line 6)) (3.0.7)\n",
            "Requirement already satisfied: typing-extensions in /usr/local/lib/python3.7/dist-packages (from kiwisolver>=1.0.1->matplotlib==3.2.1->-r requirements.txt (line 6)) (3.10.0.2)\n"
          ]
        }
      ],
      "source": [
        "!pip install -r requirements.txt"
      ]
    },
    {
      "cell_type": "code",
      "execution_count": 6,
      "metadata": {
        "colab": {
          "base_uri": "https://localhost:8080/",
          "height": 0
        },
        "id": "zbAK1tbEAsoV",
        "outputId": "a19a6a43-d1ec-4f74-c1c1-ebbfd94c4a61"
      },
      "outputs": [
        {
          "output_type": "stream",
          "name": "stdout",
          "text": [
            "2022-03-26 07:29:07 [lstm2-cluener] epoch 0 dev-f1: 0, dev-p: 0, dev-r: 0.0, train-loss: 1.618214712693141\n",
            "2022-03-26 07:29:12 [lstm2-cluener] epoch 1 dev-f1: 0, dev-p: 0.0, dev-r: 0.0, train-loss: 1.0530170110555797\n",
            "2022-03-26 07:29:16 [lstm2-cluener] epoch 2 dev-f1: 0, dev-p: 0.0, dev-r: 0.0, train-loss: 0.9548331224001371\n",
            "2022-03-26 07:29:21 [lstm2-cluener] epoch 3 dev-f1: 0, dev-p: 0.0, dev-r: 0.0, train-loss: 0.9225154243982755\n",
            "2022-03-26 07:29:26 [lstm2-cluener] epoch 4 dev-f1: 0.0028901734104046246, dev-p: 0.056338028169014086, dev-r: 0.0014831294030404152, train-loss: 0.8272221088409424\n",
            "2022-03-26 07:29:31 [lstm2-cluener] epoch 5 dev-f1: 0.023248304811107526, dev-p: 0.09, dev-r: 0.013348164627363738, train-loss: 0.76307069338285\n",
            "2022-03-26 07:29:35 [lstm2-cluener] epoch 6 dev-f1: 0.03123048094940662, dev-p: 0.09900990099009901, dev-r: 0.01853911753800519, train-loss: 0.696768235701781\n",
            "2022-03-26 07:29:40 [lstm2-cluener] epoch 7 dev-f1: 0.04170676932948348, dev-p: 0.15476190476190477, dev-r: 0.024100852799406748, train-loss: 0.6668629027329959\n",
            "2022-03-26 07:29:45 [lstm2-cluener] epoch 8 dev-f1: 0.011089367253750815, dev-p: 0.04607046070460705, dev-r: 0.006303299962921765, train-loss: 0.6718367521579449\n",
            "2022-03-26 07:29:50 [lstm2-cluener] epoch 9 dev-f1: 0.02100271002710027, dev-p: 0.12156862745098039, dev-r: 0.011494252873563218, train-loss: 0.6088410317897797\n",
            "2022-03-26 07:29:54 [lstm2-cluener] epoch 10 dev-f1: 0.04590570719602978, dev-p: 0.14041745730550284, dev-r: 0.027437893956247683, train-loss: 0.5574310078070714\n",
            "2022-03-26 07:29:59 [lstm2-cluener] epoch 11 dev-f1: 0.039609813774756135, dev-p: 0.09766763848396501, dev-r: 0.024842417500926955, train-loss: 0.5205694597501022\n",
            "2022-03-26 07:30:04 [lstm2-cluener] epoch 12 dev-f1: 0.04995417048579284, dev-p: 0.0653869226154769, dev-r: 0.040415276232851315, train-loss: 0.46298354864120483\n",
            "2022-03-26 07:30:09 [lstm2-cluener] epoch 13 dev-f1: 0.04800380228136883, dev-p: 0.06684315023163467, dev-r: 0.03744901742677049, train-loss: 0.40463151725438923\n",
            "2022-03-26 07:30:14 [lstm2-cluener] epoch 14 dev-f1: 0.08520271660835561, dev-p: 0.09574468085106383, dev-r: 0.07675194660734148, train-loss: 0.41936319837203395\n",
            "2022-03-26 07:30:18 [lstm2-cluener] epoch 15 dev-f1: 0.06929973346256361, dev-p: 0.1, dev-r: 0.053021876158694844, train-loss: 0.4438718454195903\n",
            "2022-03-26 07:30:23 [lstm2-cluener] epoch 16 dev-f1: 0.09936766034327009, dev-p: 0.1270941652224148, dev-r: 0.08157211716722285, train-loss: 0.37660829493632686\n",
            "2022-03-26 07:30:28 [lstm2-cluener] epoch 17 dev-f1: 0.08576233183856502, dev-p: 0.1756601607347876, dev-r: 0.05672969966629588, train-loss: 0.3687205727283771\n",
            "2022-03-26 07:30:33 [lstm2-cluener] epoch 18 dev-f1: 0.11486635741108901, dev-p: 0.14207650273224043, dev-r: 0.09640341119762699, train-loss: 0.3203004782016461\n",
            "2022-03-26 07:30:37 [lstm2-cluener] epoch 19 dev-f1: 0.10030832476875644, dev-p: 0.11254612546125461, dev-r: 0.09047089358546533, train-loss: 0.24686558200762823\n",
            "2022-03-26 07:30:42 [lstm2-cluener] epoch 20 dev-f1: 0.11014203837528035, dev-p: 0.16793313069908813, dev-r: 0.08194289951798295, train-loss: 0.2032156643959192\n",
            "2022-03-26 07:30:47 [lstm2-cluener] epoch 21 dev-f1: 0.11609081934846989, dev-p: 0.1241554054054054, dev-r: 0.10901001112347053, train-loss: 0.17459024746830648\n",
            "2022-03-26 07:30:52 [lstm2-cluener] epoch 22 dev-f1: 0.11515277489087508, dev-p: 0.13103122043519394, dev-r: 0.10270671116054876, train-loss: 0.21430504608612794\n",
            "2022-03-26 07:30:56 [lstm2-cluener] epoch 23 dev-f1: 0.12353998203054808, dev-p: 0.15669515669515668, dev-r: 0.10196514645902854, train-loss: 0.16283301579264495\n",
            "2022-03-26 07:31:01 [lstm2-cluener] epoch 24 dev-f1: 0.13202247191011235, dev-p: 0.12537512504168055, dev-r: 0.13941416388579903, train-loss: 0.13385330599087936\n",
            "2022-03-26 07:31:06 [lstm2-cluener] epoch 25 dev-f1: 0.1299322439218812, dev-p: 0.14045669969840585, dev-r: 0.12087504634779385, train-loss: 0.10013622933855423\n",
            "2022-03-26 07:31:11 [lstm2-cluener] epoch 26 dev-f1: 0.13637226970560304, dev-p: 0.139797507788162, dev-r: 0.13311086392287727, train-loss: 0.11563845637899178\n",
            "2022-03-26 07:31:16 [lstm2-cluener] epoch 27 dev-f1: 0.11871982835687467, dev-p: 0.11464088397790055, dev-r: 0.12309974045235447, train-loss: 0.09134240204898211\n",
            "2022-03-26 07:31:20 [lstm2-cluener] epoch 28 dev-f1: 0.13760718660677826, dev-p: 0.1531122217174012, dev-r: 0.12495365220615498, train-loss: 0.0782043132930994\n",
            "2022-03-26 07:31:25 [lstm2-cluener] epoch 29 dev-f1: 0.12099644128113879, dev-p: 0.12225586676760031, dev-r: 0.11976269929551353, train-loss: 0.051859137387229845\n",
            "2022-03-26 07:31:30 [lstm2-cluener] epoch 30 dev-f1: 0.1303879310344828, dev-p: 0.12643678160919541, dev-r: 0.13459399332591768, train-loss: 0.06856298332030956\n",
            "2022-03-26 07:31:35 [lstm2-cluener] epoch 31 dev-f1: 0.1342001393081031, dev-p: 0.1795031055900621, dev-r: 0.10715609936967001, train-loss: 0.09138448736988582\n",
            "2022-03-26 07:31:39 [lstm2-cluener] epoch 32 dev-f1: 0.13813927156067185, dev-p: 0.14066102997694083, dev-r: 0.135706340378198, train-loss: 0.17026828601956367\n",
            "2022-03-26 07:31:44 [lstm2-cluener] epoch 33 dev-f1: 0.1225071225071225, dev-p: 0.13576905728461885, dev-r: 0.11160548757879125, train-loss: 0.1246496825837172\n",
            "2022-03-26 07:31:49 [lstm2-cluener] epoch 34 dev-f1: 0.1525083612040134, dev-p: 0.1912751677852349, dev-r: 0.12680756395995552, train-loss: 0.14070691569493368\n",
            "2022-03-26 07:31:54 [lstm2-cluener] epoch 35 dev-f1: 0.1438247011952191, dev-p: 0.15540249677141627, dev-r: 0.13385242862439747, train-loss: 0.08011596277356148\n",
            "2022-03-26 07:31:59 [lstm2-cluener] epoch 36 dev-f1: 0.15327510917030565, dev-p: 0.186404673393521, dev-r: 0.13014460511679643, train-loss: 0.04731108964635776\n",
            "2022-03-26 07:32:04 [lstm2-cluener] epoch 37 dev-f1: 0.15839933305543977, dev-p: 0.1808662541646835, dev-r: 0.14089729328883946, train-loss: 0.017106098445275657\n",
            "2022-03-26 07:32:08 [lstm2-cluener] epoch 38 dev-f1: 0.1613963039014374, dev-p: 0.18085595950299124, dev-r: 0.1457174638487208, train-loss: 0.007616705064160319\n",
            "2022-03-26 07:32:13 [lstm2-cluener] test-f1: 0.1501272264631043, test-p: 0.16682375117813383, test-r: 0.13646877409406322\n",
            "2022-03-26 07:32:39 [lstm2-cluener] epoch 0 dev-f1: 0.045903544450900634, dev-p: 0.10604026845637583, dev-r: 0.0292918057100482, train-loss: 1.0447369094455943\n",
            "2022-03-26 07:33:05 [lstm2-cluener] epoch 1 dev-f1: 0.12665985699693563, dev-p: 0.20344544708777687, dev-r: 0.09195402298850575, train-loss: 0.7579131926508511\n",
            "2022-03-26 07:33:31 [lstm2-cluener] epoch 2 dev-f1: 0.14466712739000231, dev-p: 0.19099756690997566, dev-r: 0.1164256581386726, train-loss: 0.6930746448916547\n",
            "2022-03-26 07:33:56 [lstm2-cluener] epoch 3 dev-f1: 0.16375417239348125, dev-p: 0.17404006677796327, dev-r: 0.1546162402669633, train-loss: 0.4769843137614867\n",
            "2022-03-26 07:34:22 [lstm2-cluener] epoch 4 dev-f1: 0.15165876777251186, dev-p: 0.14915740408748657, dev-r: 0.1542454579162032, train-loss: 0.3464049784773413\n",
            "2022-03-26 07:34:48 [lstm2-cluener] epoch 5 dev-f1: 0.1829589151993524, dev-p: 0.2014260249554367, dev-r: 0.16759362254356694, train-loss: 0.2501239218749106\n",
            "2022-03-26 07:35:14 [lstm2-cluener] epoch 6 dev-f1: 0.1854806541683287, dev-p: 0.20069054812257228, dev-r: 0.1724137931034483, train-loss: 0.1598680355881601\n",
            "2022-03-26 07:35:40 [lstm2-cluener] epoch 7 dev-f1: 0.17886489585323906, dev-p: 0.18454258675078863, dev-r: 0.1735261401557286, train-loss: 0.1212956844095692\n",
            "2022-03-26 07:36:05 [lstm2-cluener] epoch 8 dev-f1: 0.1697513553935315, dev-p: 0.17119155354449472, dev-r: 0.16833518724508714, train-loss: 0.08529674754614996\n",
            "2022-03-26 07:36:31 [lstm2-cluener] epoch 9 dev-f1: 0.19076805209729936, dev-p: 0.19730586370839936, dev-r: 0.1846496106785317, train-loss: 0.05871982109694406\n",
            "2022-03-26 07:36:56 [lstm2-cluener] epoch 10 dev-f1: 0.18579492003762935, dev-p: 0.2540192926045016, dev-r: 0.146459028550241, train-loss: 0.042248796415258444\n",
            "2022-03-26 07:37:22 [lstm2-cluener] epoch 11 dev-f1: 0.23464146291349908, dev-p: 0.2631336405529954, dev-r: 0.21171672228401928, train-loss: 0.021658097748109225\n",
            "2022-03-26 07:37:48 [lstm2-cluener] epoch 12 dev-f1: 0.19472881725114355, dev-p: 0.23600844772967264, dev-r: 0.1657397107897664, train-loss: 0.015199278089952285\n",
            "2022-03-26 07:38:13 [lstm2-cluener] epoch 13 dev-f1: 0.20771513353115728, dev-p: 0.24245423057892132, dev-r: 0.18168335187245088, train-loss: 0.011627898565197135\n",
            "2022-03-26 07:38:39 [lstm2-cluener] epoch 14 dev-f1: 0.21379011274934953, dev-p: 0.2574412532637076, dev-r: 0.1827956989247312, train-loss: 0.011373897810234505\n",
            "2022-03-26 07:39:05 [lstm2-cluener] epoch 15 dev-f1: 0.23713826366559487, dev-p: 0.25888547608600265, dev-r: 0.21876158694846126, train-loss: 0.003083442531409379\n",
            "2022-03-26 07:39:09 [lstm2-cluener] test-f1: 0.2287838116869709, test-p: 0.2463317029791018, test-r: 0.2135697764070933\n",
            "['cluener', 'lstm2', 100, 0.1501272264631043, 0.16682375117813383, 0.13646877409406322, 0.2287838116869709, 0.2463317029791018, 0.2135697764070933, 0.07865658522386659]\n"
          ]
        }
      ],
      "source": [
        "!python app.py train --gpu \"[0]\" --model \"lstm2\" --dataset \"cluener\" --seed 100"
      ]
    },
    {
      "cell_type": "code",
      "source": [
        "!python app.py train --gpu \"[0]\" --model \"lstm2\" --dataset \"cluener\" --seed 500"
      ],
      "metadata": {
        "colab": {
          "base_uri": "https://localhost:8080/",
          "height": 0
        },
        "id": "B17n3_sDK2Gn",
        "outputId": "6f5ad94f-6072-44ef-e6ac-07c7438a834f"
      },
      "execution_count": 7,
      "outputs": [
        {
          "output_type": "stream",
          "name": "stdout",
          "text": [
            "2022-03-26 07:41:02 [lstm2-cluener] epoch 0 dev-f1: 0, dev-p: 0.0, dev-r: 0.0, train-loss: 1.1490615454931108\n",
            "2022-03-26 07:41:09 [lstm2-cluener] epoch 1 dev-f1: 0.0006151953245155337, dev-p: 0.0018050541516245488, dev-r: 0.0003707823507601038, train-loss: 0.8676086456056625\n",
            "2022-03-26 07:41:17 [lstm2-cluener] epoch 2 dev-f1: 0.0005991611743559016, dev-p: 0.0015600624024961, dev-r: 0.0003707823507601038, train-loss: 0.7609499300283099\n",
            "2022-03-26 07:41:24 [lstm2-cluener] epoch 3 dev-f1: 0.049485546300832926, dev-p: 0.07292418772563176, dev-r: 0.03744901742677049, train-loss: 0.6764157750303783\n",
            "2022-03-26 07:41:32 [lstm2-cluener] epoch 4 dev-f1: 0.08768373035985808, dev-p: 0.13851080864691753, dev-r: 0.06414534668149796, train-loss: 0.6272953564212436\n",
            "2022-03-26 07:41:39 [lstm2-cluener] epoch 5 dev-f1: 0.16374269005847952, dev-p: 0.20811892510005717, dev-r: 0.13496477567667778, train-loss: 0.5842920948588659\n",
            "2022-03-26 07:41:47 [lstm2-cluener] epoch 6 dev-f1: 0.17850719424460432, dev-p: 0.22672758423757852, dev-r: 0.1472005932517612, train-loss: 0.5345696896787674\n",
            "2022-03-26 07:41:54 [lstm2-cluener] epoch 7 dev-f1: 0.19272495213784305, dev-p: 0.22604790419161677, dev-r: 0.16796440489432704, train-loss: 0.47827656590749346\n",
            "2022-03-26 07:42:02 [lstm2-cluener] epoch 8 dev-f1: 0.21789734783438272, dev-p: 0.2244496855345912, dev-r: 0.21171672228401928, train-loss: 0.4426062698402102\n",
            "2022-03-26 07:42:10 [lstm2-cluener] epoch 9 dev-f1: 0.24907824662023761, dev-p: 0.2782608695652174, dev-r: 0.22543566926214312, train-loss: 0.3952145439291757\n",
            "2022-03-26 07:42:17 [lstm2-cluener] epoch 10 dev-f1: 0.25950444486476265, dev-p: 0.2648648648648649, dev-r: 0.25435669262143124, train-loss: 0.3486807734247238\n",
            "2022-03-26 07:42:25 [lstm2-cluener] epoch 11 dev-f1: 0.2594000844951415, dev-p: 0.3014236622484045, dev-r: 0.22766036336670376, train-loss: 0.3179210832431203\n",
            "2022-03-26 07:42:32 [lstm2-cluener] epoch 12 dev-f1: 0.2612226483194225, dev-p: 0.33352534562211983, dev-r: 0.21468298109010012, train-loss: 0.285812342923785\n",
            "2022-03-26 07:42:40 [lstm2-cluener] epoch 13 dev-f1: 0.23732171156893822, dev-p: 0.25478519778817527, dev-r: 0.22209862810530218, train-loss: 0.24120865466575775\n",
            "2022-03-26 07:42:47 [lstm2-cluener] epoch 14 dev-f1: 0.3058871963771099, dev-p: 0.34382230448866263, dev-r: 0.27549128661475714, train-loss: 0.19835664266868244\n",
            "2022-03-26 07:42:55 [lstm2-cluener] epoch 15 dev-f1: 0.24522224608116813, dev-p: 0.2913265306122449, dev-r: 0.21171672228401928, train-loss: 0.18211978472887524\n",
            "2022-03-26 07:43:02 [lstm2-cluener] epoch 16 dev-f1: 0.30938806537438235, dev-p: 0.31734892787524366, dev-r: 0.3018168335187245, train-loss: 0.1575694022079309\n",
            "2022-03-26 07:43:10 [lstm2-cluener] epoch 17 dev-f1: 0.3266055045871559, dev-p: 0.36277173913043476, dev-r: 0.29699666295884314, train-loss: 0.13063100246446474\n",
            "2022-03-26 07:43:17 [lstm2-cluener] epoch 18 dev-f1: 0.3192206819033346, dev-p: 0.32260507383566833, dev-r: 0.31590656284760843, train-loss: 0.10178498030891495\n",
            "2022-03-26 07:43:24 [lstm2-cluener] epoch 19 dev-f1: 0.3184568835098336, dev-p: 0.32497105364724044, dev-r: 0.3121987393400074, train-loss: 0.09690599465772273\n",
            "2022-03-26 07:43:32 [lstm2-cluener] epoch 20 dev-f1: 0.34210035441149034, dev-p: 0.3442192192192192, dev-r: 0.3400074156470152, train-loss: 0.0704114586040969\n",
            "2022-03-26 07:43:39 [lstm2-cluener] epoch 21 dev-f1: 0.3383616574374642, dev-p: 0.3488188976377953, dev-r: 0.328513162773452, train-loss: 0.053463728514514745\n",
            "2022-03-26 07:43:47 [lstm2-cluener] epoch 22 dev-f1: 0.3310396131671936, dev-p: 0.332089552238806, dev-r: 0.3299962921764924, train-loss: 0.04098527287946097\n",
            "2022-03-26 07:43:54 [lstm2-cluener] epoch 23 dev-f1: 0.335786751541675, dev-p: 0.3622317596566524, dev-r: 0.3129403040415276, train-loss: 0.04632864183642798\n",
            "2022-03-26 07:44:01 [lstm2-cluener] epoch 24 dev-f1: 0.32301980198019803, dev-p: 0.36401673640167365, dev-r: 0.2903225806451613, train-loss: 0.029108210795721602\n",
            "2022-03-26 07:44:09 [lstm2-cluener] epoch 25 dev-f1: 0.33393683363508353, dev-p: 0.3649956024626209, dev-r: 0.3077493511308862, train-loss: 0.01859802852333006\n",
            "2022-03-26 07:44:16 [lstm2-cluener] epoch 26 dev-f1: 0.3371247436136491, dev-p: 0.3390847711927982, dev-r: 0.3351872450871339, train-loss: 0.011826778288989787\n",
            "2022-03-26 07:44:24 [lstm2-cluener] epoch 27 dev-f1: 0.36117115346826484, dev-p: 0.3841973244147157, dev-r: 0.3407489803485354, train-loss: 0.008189516827567585\n",
            "2022-03-26 07:44:28 [lstm2-cluener] test-f1: 0.3401688781664656, test-p: 0.3554621848739496, test-r: 0.3261372397841172\n",
            "2022-03-26 07:50:36 [lstm2-cluener] epoch 0 dev-f1: 0.20484429065743945, dev-p: 0.27106227106227104, dev-r: 0.1646273637374861, train-loss: 0.6923837806565432\n",
            "2022-03-26 07:56:39 [lstm2-cluener] epoch 1 dev-f1: 0.33673903788846316, dev-p: 0.3953023488255872, dev-r: 0.2932888394512421, train-loss: 0.34222996703192105\n",
            "2022-03-26 08:02:42 [lstm2-cluener] epoch 2 dev-f1: 0.37720947724708537, dev-p: 0.38267836703548264, dev-r: 0.37189469781238416, train-loss: 0.10964084720193373\n",
            "2022-03-26 08:08:45 [lstm2-cluener] epoch 3 dev-f1: 0.3823058446757406, dev-p: 0.41539799913005654, dev-r: 0.35409714497589917, train-loss: 0.03321670500326154\n",
            "2022-03-26 08:14:49 [lstm2-cluener] epoch 4 dev-f1: 0.39904229848363926, dev-p: 0.4319654427645788, dev-r: 0.3707823507601038, train-loss: 0.014544150809879228\n",
            "2022-03-26 08:20:52 [lstm2-cluener] epoch 5 dev-f1: 0.41141203225139544, dev-p: 0.4649532710280374, dev-r: 0.3689284390063033, train-loss: 0.009423335606712787\n",
            "2022-03-26 08:20:56 [lstm2-cluener] test-f1: 0.39728641085435656, test-p: 0.44135657089024966, test-r: 0.36121819583654585\n",
            "['cluener', 'lstm2', 500, 0.3401688781664656, 0.3554621848739496, 0.3261372397841172, 0.39728641085435656, 0.44135657089024966, 0.36121819583654585, 0.05711753268789094]\n"
          ]
        }
      ]
    }
  ],
  "metadata": {
    "colab": {
      "name": "Untitled0.ipynb",
      "provenance": [],
      "authorship_tag": "ABX9TyOiWjmrxnCQM0oK4d2KiEyN",
      "include_colab_link": true
    },
    "kernelspec": {
      "display_name": "Python 3",
      "name": "python3"
    },
    "language_info": {
      "name": "python"
    },
    "accelerator": "GPU"
  },
  "nbformat": 4,
  "nbformat_minor": 0
}